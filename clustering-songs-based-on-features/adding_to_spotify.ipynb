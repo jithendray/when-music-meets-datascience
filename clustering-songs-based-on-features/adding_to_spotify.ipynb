{
 "cells": [
  {
   "cell_type": "code",
   "execution_count": 1,
   "metadata": {},
   "outputs": [],
   "source": [
    "import spotipy\n",
    "from spotipy import SpotifyClientCredentials, util\n",
    "import pandas as pd"
   ]
  },
  {
   "cell_type": "code",
   "execution_count": 6,
   "metadata": {},
   "outputs": [
    {
     "name": "stderr",
     "output_type": "stream",
     "text": [
      "Couldn't read cache at: .cache-bx1j9iim2qv6chih9x8lpiwd8\n",
      "Using `localhost` as redirect URI without a port. Specify a port (e.g. `localhost:8080`) to allow automatic retrieval of authentication code instead of having to copy and paste the URL your browser is redirected to.\n"
     ]
    },
    {
     "name": "stdout",
     "output_type": "stream",
     "text": [
      "Enter the URL you were redirected to: http://localhost/callback?code=AQDmw9Zcl4-meapH26G3Jy55jN5zPvZ2W_QrcaJcVSGDllRQigqtfIA8R5nwz1ydeF5DKxBOmby-o_Gg-bREx-3dQMfksCEkS4JOlJsvFFHNBYF9UzJvP_sVYigFGABM5Rl3fV0zhB9ccVJwMxQ7hphyOZ5cvoEWJyr0mKlfq5dgkHcMgp6yVLpZnlYMiwxL1mS_9VWjrU5e7Q\n"
     ]
    },
    {
     "name": "stderr",
     "output_type": "stream",
     "text": [
      "Couldn't read cache at: .cache-bx1j9iim2qv6chih9x8lpiwd8\n",
      "Using `localhost` as redirect URI without a port. Specify a port (e.g. `localhost:8080`) to allow automatic retrieval of authentication code instead of having to copy and paste the URL your browser is redirected to.\n"
     ]
    },
    {
     "name": "stdout",
     "output_type": "stream",
     "text": [
      "Enter the URL you were redirected to: http://localhost/callback?code=AQCFNYmJ_1BNBRTO5CIyTKkSirhYqQt7WR7LwTuuYsLWYj8o9tOK7a6VIgOc_QG1AEsaHfd9NyBKXlCtlru17Vp9Ki451EI9N7jh-MTXXDZ_FkSqy489HmuQxxvJztnOYgz7MyR-5lAqbxaZRVsd36Dv9o2yYs0QDRMwkRxIJy0Nz2ujo5IfExcS1rUuva_CeW0\n"
     ]
    },
    {
     "name": "stderr",
     "output_type": "stream",
     "text": [
      "Using `localhost` as redirect URI without a port. Specify a port (e.g. `localhost:8080`) to allow automatic retrieval of authentication code instead of having to copy and paste the URL your browser is redirected to.\n"
     ]
    },
    {
     "name": "stdout",
     "output_type": "stream",
     "text": [
      "Enter the URL you were redirected to: http://localhost/callback?code=AQD6L4DjqI8pDt8nFdncx5sVgR9WYSr98L5LP1M9_svls3NlJLMe4vfzgvKyRKGZx3Vz_xtdqy1BQxyfeL7j4bKELgB35iWTsT3PkNJTgfRUqszgODHTr4lFPvxd-AyIoi1I3jKsw92eLzut00nuThdxo6BTEo-lOtCrYXS6xDydKrhxi2coTn8ORiW3rEVT-qLamug\n"
     ]
    }
   ],
   "source": [
    "client_id='<secret>'\n",
    "client_secret='<secret>'\n",
    "redirect_uri='http://localhost/callback'\n",
    "\n",
    "username = '<secret>'\n",
    "scope_playlist = 'playlist-modify-public'\n",
    "scope_user = 'user-library-modify'\n",
    "scope_playing = 'user-read-currently-playing'\n",
    "\n",
    "#Credentials to access the Spotify Music Data\n",
    "manager = SpotifyClientCredentials(client_id,client_secret)\n",
    "sp = spotipy.Spotify(client_credentials_manager=manager)\n",
    "\n",
    "#Credentials to access the actual song played\n",
    "token_actual = util.prompt_for_user_token(username,scope_playing,client_id,client_secret,redirect_uri) \n",
    "sp_actual = spotipy.Spotify(auth=token_actual)\n",
    "\n",
    "#Credentiasl to acces the library music \n",
    "token_user= util.prompt_for_user_token(username,scope_user,client_id,client_secret,redirect_uri) \n",
    "sp_user = spotipy.Spotify(auth=token_user)\n",
    "\n",
    "#Credentiasl to acces the Playlists Music\n",
    "token_playlist= util.prompt_for_user_token(username,scope_playlist,client_id,client_secret,redirect_uri) \n",
    "sp_playlist = spotipy.Spotify(auth=token_playlist)"
   ]
  },
  {
   "cell_type": "code",
   "execution_count": 7,
   "metadata": {},
   "outputs": [],
   "source": [
    "high = pd.read_csv(\"highEnergyCluster.csv\")\n",
    "low = pd.read_csv(\"lowEnergyCluster.csv\")\n",
    "ids1 = high['id'].tolist()\n",
    "ids2 = low['id'].tolist()"
   ]
  },
  {
   "cell_type": "code",
   "execution_count": 8,
   "metadata": {},
   "outputs": [],
   "source": [
    "blacksabbath_HighEnergy = sp_playlist.user_playlist_create(username,\"BlackSabbath :)\")\n",
    "blacksabbath_LoeEnergy = sp_playlist.user_playlist_create(username,\"BlackSabbath :(\")"
   ]
  },
  {
   "cell_type": "code",
   "execution_count": 12,
   "metadata": {},
   "outputs": [],
   "source": [
    "high1 = high[:51]\n",
    "high2 = high[51:]\n",
    "\n",
    "highids1 = high1['id'].tolist()\n",
    "highids2 = high2['id'].tolist()"
   ]
  },
  {
   "cell_type": "code",
   "execution_count": 13,
   "metadata": {},
   "outputs": [
    {
     "data": {
      "text/plain": [
       "{'snapshot_id': 'MiwxNjdkZGM5NmExMTNhNDFjNmRlYzRlNjQwNzQ4NmZiNDNhM2YyNjIy'}"
      ]
     },
     "execution_count": 13,
     "metadata": {},
     "output_type": "execute_result"
    }
   ],
   "source": [
    "sp_playlist.user_playlist_add_tracks(username,'1q08UWjmaS47x11CvFbQlS',highids1)"
   ]
  },
  {
   "cell_type": "code",
   "execution_count": 14,
   "metadata": {},
   "outputs": [
    {
     "data": {
      "text/plain": [
       "{'snapshot_id': 'Myw5OTc3YWVkMjY2MTcwOWU2NDhlZGEwYmFhNDQ2NjM1NGU4Y2M3ZWZh'}"
      ]
     },
     "execution_count": 14,
     "metadata": {},
     "output_type": "execute_result"
    }
   ],
   "source": [
    "sp_playlist.user_playlist_add_tracks(username,'1q08UWjmaS47x11CvFbQlS',highids2)"
   ]
  },
  {
   "cell_type": "code",
   "execution_count": 15,
   "metadata": {},
   "outputs": [
    {
     "data": {
      "text/plain": [
       "{'snapshot_id': 'MixiOTgwNTZmM2FhYjNmNDkzMjIxYmY2MGQ1M2EwNThmOGNhMTE5MDA0'}"
      ]
     },
     "execution_count": 15,
     "metadata": {},
     "output_type": "execute_result"
    }
   ],
   "source": [
    "sp_playlist.user_playlist_add_tracks(username,'47oyUwtRGVp7PFNBgL6X2l',ids2)"
   ]
  },
  {
   "cell_type": "code",
   "execution_count": null,
   "metadata": {},
   "outputs": [],
   "source": []
  }
 ],
 "metadata": {
  "kernelspec": {
   "display_name": "Python 3",
   "language": "python",
   "name": "python3"
  },
  "language_info": {
   "codemirror_mode": {
    "name": "ipython",
    "version": 3
   },
   "file_extension": ".py",
   "mimetype": "text/x-python",
   "name": "python",
   "nbconvert_exporter": "python",
   "pygments_lexer": "ipython3",
   "version": "3.8.5"
  }
 },
 "nbformat": 4,
 "nbformat_minor": 4
}

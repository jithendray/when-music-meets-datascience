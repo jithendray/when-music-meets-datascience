{
 "cells": [
  {
   "cell_type": "code",
   "execution_count": 1,
   "metadata": {},
   "outputs": [],
   "source": [
    "import numpy as np\n",
    "import pandas as pd\n",
    "import matplotlib.pyplot as plt\n",
    "plt.style.use('seaborn-muted')\n",
    "\n",
    "import seaborn as sns\n",
    "\n",
    "import warnings\n",
    "warnings.filterwarnings(\"ignore\")\n",
    "\n",
    "from mpl_toolkits.mplot3d import Axes3D\n",
    "\n",
    "from sklearn.cluster import KMeans\n",
    "from sklearn.preprocessing import MinMaxScaler"
   ]
  },
  {
   "cell_type": "code",
   "execution_count": 2,
   "metadata": {},
   "outputs": [
    {
     "data": {
      "text/html": [
       "<div>\n",
       "<style scoped>\n",
       "    .dataframe tbody tr th:only-of-type {\n",
       "        vertical-align: middle;\n",
       "    }\n",
       "\n",
       "    .dataframe tbody tr th {\n",
       "        vertical-align: top;\n",
       "    }\n",
       "\n",
       "    .dataframe thead th {\n",
       "        text-align: right;\n",
       "    }\n",
       "</style>\n",
       "<table border=\"1\" class=\"dataframe\">\n",
       "  <thead>\n",
       "    <tr style=\"text-align: right;\">\n",
       "      <th></th>\n",
       "      <th>album</th>\n",
       "      <th>track_number</th>\n",
       "      <th>id</th>\n",
       "      <th>name</th>\n",
       "      <th>uri</th>\n",
       "      <th>acousticness</th>\n",
       "      <th>danceability</th>\n",
       "      <th>energy</th>\n",
       "      <th>instrumentalness</th>\n",
       "      <th>liveness</th>\n",
       "      <th>loudness</th>\n",
       "      <th>speechiness</th>\n",
       "      <th>tempo</th>\n",
       "      <th>valence</th>\n",
       "      <th>popularity</th>\n",
       "      <th>artist</th>\n",
       "    </tr>\n",
       "  </thead>\n",
       "  <tbody>\n",
       "    <tr>\n",
       "      <th>0</th>\n",
       "      <td>Goblin</td>\n",
       "      <td>1</td>\n",
       "      <td>2evuIbUcuoQvaxXyzd11mp</td>\n",
       "      <td>Goblin</td>\n",
       "      <td>spotify:track:2evuIbUcuoQvaxXyzd11mp</td>\n",
       "      <td>0.5340</td>\n",
       "      <td>0.456</td>\n",
       "      <td>0.529</td>\n",
       "      <td>0.000000</td>\n",
       "      <td>0.219</td>\n",
       "      <td>-12.651</td>\n",
       "      <td>0.828</td>\n",
       "      <td>78.235</td>\n",
       "      <td>0.444</td>\n",
       "      <td>9</td>\n",
       "      <td>Tyler, the creator</td>\n",
       "    </tr>\n",
       "    <tr>\n",
       "      <th>1</th>\n",
       "      <td>Goblin</td>\n",
       "      <td>2</td>\n",
       "      <td>4repMe7ou7bz7L33HQfuV0</td>\n",
       "      <td>Yonkers</td>\n",
       "      <td>spotify:track:4repMe7ou7bz7L33HQfuV0</td>\n",
       "      <td>0.0161</td>\n",
       "      <td>0.712</td>\n",
       "      <td>0.759</td>\n",
       "      <td>0.080800</td>\n",
       "      <td>0.217</td>\n",
       "      <td>-5.397</td>\n",
       "      <td>0.334</td>\n",
       "      <td>79.102</td>\n",
       "      <td>0.738</td>\n",
       "      <td>14</td>\n",
       "      <td>Tyler, the creator</td>\n",
       "    </tr>\n",
       "    <tr>\n",
       "      <th>2</th>\n",
       "      <td>Goblin</td>\n",
       "      <td>3</td>\n",
       "      <td>5VX4NUwY6Y2Tb282s5okwj</td>\n",
       "      <td>Radicals</td>\n",
       "      <td>spotify:track:5VX4NUwY6Y2Tb282s5okwj</td>\n",
       "      <td>0.1540</td>\n",
       "      <td>0.562</td>\n",
       "      <td>0.680</td>\n",
       "      <td>0.095500</td>\n",
       "      <td>0.269</td>\n",
       "      <td>-8.015</td>\n",
       "      <td>0.498</td>\n",
       "      <td>74.060</td>\n",
       "      <td>0.224</td>\n",
       "      <td>9</td>\n",
       "      <td>Tyler, the creator</td>\n",
       "    </tr>\n",
       "    <tr>\n",
       "      <th>3</th>\n",
       "      <td>Goblin</td>\n",
       "      <td>4</td>\n",
       "      <td>1bO2vxNEE0CTehNo4LoNIa</td>\n",
       "      <td>She</td>\n",
       "      <td>spotify:track:1bO2vxNEE0CTehNo4LoNIa</td>\n",
       "      <td>0.2560</td>\n",
       "      <td>0.350</td>\n",
       "      <td>0.621</td>\n",
       "      <td>0.000034</td>\n",
       "      <td>0.613</td>\n",
       "      <td>-6.495</td>\n",
       "      <td>0.233</td>\n",
       "      <td>83.375</td>\n",
       "      <td>0.459</td>\n",
       "      <td>19</td>\n",
       "      <td>Tyler, the creator</td>\n",
       "    </tr>\n",
       "    <tr>\n",
       "      <th>4</th>\n",
       "      <td>Goblin</td>\n",
       "      <td>5</td>\n",
       "      <td>3NwY1257odCmL1ncBr7fL0</td>\n",
       "      <td>Transylvania</td>\n",
       "      <td>spotify:track:3NwY1257odCmL1ncBr7fL0</td>\n",
       "      <td>0.0115</td>\n",
       "      <td>0.572</td>\n",
       "      <td>0.638</td>\n",
       "      <td>0.010400</td>\n",
       "      <td>0.201</td>\n",
       "      <td>-11.868</td>\n",
       "      <td>0.424</td>\n",
       "      <td>122.448</td>\n",
       "      <td>0.197</td>\n",
       "      <td>8</td>\n",
       "      <td>Tyler, the creator</td>\n",
       "    </tr>\n",
       "  </tbody>\n",
       "</table>\n",
       "</div>"
      ],
      "text/plain": [
       "    album  track_number                      id          name  \\\n",
       "0  Goblin             1  2evuIbUcuoQvaxXyzd11mp        Goblin   \n",
       "1  Goblin             2  4repMe7ou7bz7L33HQfuV0       Yonkers   \n",
       "2  Goblin             3  5VX4NUwY6Y2Tb282s5okwj      Radicals   \n",
       "3  Goblin             4  1bO2vxNEE0CTehNo4LoNIa           She   \n",
       "4  Goblin             5  3NwY1257odCmL1ncBr7fL0  Transylvania   \n",
       "\n",
       "                                    uri  acousticness  danceability  energy  \\\n",
       "0  spotify:track:2evuIbUcuoQvaxXyzd11mp        0.5340         0.456   0.529   \n",
       "1  spotify:track:4repMe7ou7bz7L33HQfuV0        0.0161         0.712   0.759   \n",
       "2  spotify:track:5VX4NUwY6Y2Tb282s5okwj        0.1540         0.562   0.680   \n",
       "3  spotify:track:1bO2vxNEE0CTehNo4LoNIa        0.2560         0.350   0.621   \n",
       "4  spotify:track:3NwY1257odCmL1ncBr7fL0        0.0115         0.572   0.638   \n",
       "\n",
       "   instrumentalness  liveness  loudness  speechiness    tempo  valence  \\\n",
       "0          0.000000     0.219   -12.651        0.828   78.235    0.444   \n",
       "1          0.080800     0.217    -5.397        0.334   79.102    0.738   \n",
       "2          0.095500     0.269    -8.015        0.498   74.060    0.224   \n",
       "3          0.000034     0.613    -6.495        0.233   83.375    0.459   \n",
       "4          0.010400     0.201   -11.868        0.424  122.448    0.197   \n",
       "\n",
       "   popularity              artist  \n",
       "0           9  Tyler, the creator  \n",
       "1          14  Tyler, the creator  \n",
       "2           9  Tyler, the creator  \n",
       "3          19  Tyler, the creator  \n",
       "4           8  Tyler, the creator  "
      ]
     },
     "execution_count": 2,
     "metadata": {},
     "output_type": "execute_result"
    }
   ],
   "source": [
    "df = pd.read_csv('tyler.csv')\n",
    "df.head()"
   ]
  },
  {
   "cell_type": "code",
   "execution_count": 3,
   "metadata": {},
   "outputs": [
    {
     "data": {
      "text/html": [
       "<div>\n",
       "<style scoped>\n",
       "    .dataframe tbody tr th:only-of-type {\n",
       "        vertical-align: middle;\n",
       "    }\n",
       "\n",
       "    .dataframe tbody tr th {\n",
       "        vertical-align: top;\n",
       "    }\n",
       "\n",
       "    .dataframe thead th {\n",
       "        text-align: right;\n",
       "    }\n",
       "</style>\n",
       "<table border=\"1\" class=\"dataframe\">\n",
       "  <thead>\n",
       "    <tr style=\"text-align: right;\">\n",
       "      <th></th>\n",
       "      <th>name</th>\n",
       "      <th>id</th>\n",
       "      <th>album</th>\n",
       "      <th>artist</th>\n",
       "      <th>energy</th>\n",
       "      <th>danceability</th>\n",
       "      <th>loudness</th>\n",
       "      <th>instrumentalness</th>\n",
       "      <th>popularity</th>\n",
       "    </tr>\n",
       "  </thead>\n",
       "  <tbody>\n",
       "    <tr>\n",
       "      <th>0</th>\n",
       "      <td>Goblin</td>\n",
       "      <td>2evuIbUcuoQvaxXyzd11mp</td>\n",
       "      <td>Goblin</td>\n",
       "      <td>Tyler, the creator</td>\n",
       "      <td>0.529</td>\n",
       "      <td>0.456</td>\n",
       "      <td>-12.651</td>\n",
       "      <td>0.000000</td>\n",
       "      <td>9</td>\n",
       "    </tr>\n",
       "    <tr>\n",
       "      <th>1</th>\n",
       "      <td>Yonkers</td>\n",
       "      <td>4repMe7ou7bz7L33HQfuV0</td>\n",
       "      <td>Goblin</td>\n",
       "      <td>Tyler, the creator</td>\n",
       "      <td>0.759</td>\n",
       "      <td>0.712</td>\n",
       "      <td>-5.397</td>\n",
       "      <td>0.080800</td>\n",
       "      <td>14</td>\n",
       "    </tr>\n",
       "    <tr>\n",
       "      <th>2</th>\n",
       "      <td>Radicals</td>\n",
       "      <td>5VX4NUwY6Y2Tb282s5okwj</td>\n",
       "      <td>Goblin</td>\n",
       "      <td>Tyler, the creator</td>\n",
       "      <td>0.680</td>\n",
       "      <td>0.562</td>\n",
       "      <td>-8.015</td>\n",
       "      <td>0.095500</td>\n",
       "      <td>9</td>\n",
       "    </tr>\n",
       "    <tr>\n",
       "      <th>3</th>\n",
       "      <td>She</td>\n",
       "      <td>1bO2vxNEE0CTehNo4LoNIa</td>\n",
       "      <td>Goblin</td>\n",
       "      <td>Tyler, the creator</td>\n",
       "      <td>0.621</td>\n",
       "      <td>0.350</td>\n",
       "      <td>-6.495</td>\n",
       "      <td>0.000034</td>\n",
       "      <td>19</td>\n",
       "    </tr>\n",
       "    <tr>\n",
       "      <th>4</th>\n",
       "      <td>Transylvania</td>\n",
       "      <td>3NwY1257odCmL1ncBr7fL0</td>\n",
       "      <td>Goblin</td>\n",
       "      <td>Tyler, the creator</td>\n",
       "      <td>0.638</td>\n",
       "      <td>0.572</td>\n",
       "      <td>-11.868</td>\n",
       "      <td>0.010400</td>\n",
       "      <td>8</td>\n",
       "    </tr>\n",
       "  </tbody>\n",
       "</table>\n",
       "</div>"
      ],
      "text/plain": [
       "           name                      id   album              artist  energy  \\\n",
       "0        Goblin  2evuIbUcuoQvaxXyzd11mp  Goblin  Tyler, the creator   0.529   \n",
       "1       Yonkers  4repMe7ou7bz7L33HQfuV0  Goblin  Tyler, the creator   0.759   \n",
       "2      Radicals  5VX4NUwY6Y2Tb282s5okwj  Goblin  Tyler, the creator   0.680   \n",
       "3           She  1bO2vxNEE0CTehNo4LoNIa  Goblin  Tyler, the creator   0.621   \n",
       "4  Transylvania  3NwY1257odCmL1ncBr7fL0  Goblin  Tyler, the creator   0.638   \n",
       "\n",
       "   danceability  loudness  instrumentalness  popularity  \n",
       "0         0.456   -12.651          0.000000           9  \n",
       "1         0.712    -5.397          0.080800          14  \n",
       "2         0.562    -8.015          0.095500           9  \n",
       "3         0.350    -6.495          0.000034          19  \n",
       "4         0.572   -11.868          0.010400           8  "
      ]
     },
     "execution_count": 3,
     "metadata": {},
     "output_type": "execute_result"
    }
   ],
   "source": [
    "df = df[['name','id','album','artist','energy','danceability','loudness', 'instrumentalness', 'popularity']]\n",
    "df.head()"
   ]
  },
  {
   "cell_type": "code",
   "execution_count": 4,
   "metadata": {},
   "outputs": [
    {
     "data": {
      "image/png": "[encoded data removed]",
      "text/plain": [
       "<Figure size 1080x576 with 4 Axes>"
      ]
     },
     "metadata": {
      "needs_background": "light"
     },
     "output_type": "display_data"
    }
   ],
   "source": [
    "fig,axes = plt.subplots(2,2,figsize=(15,8))\n",
    "\n",
    "axes[0,0].hist(df['energy'])\n",
    "axes[0,0].set_title('energy')\n",
    "axes[0,1].hist(df['danceability'])\n",
    "axes[0,1].set_title('danceability')\n",
    "axes[1,0].hist(df['loudness'])\n",
    "axes[1,0].set_title('loudness')\n",
    "axes[1,1].hist(df['instrumentalness'])\n",
    "axes[1,1].set_title('instrumentalness')\n",
    "plt.show()"
   ]
  },
  {
   "cell_type": "code",
   "execution_count": 6,
   "metadata": {},
   "outputs": [],
   "source": [
    "features = df.columns[4:8]"
   ]
  },
  {
   "cell_type": "code",
   "execution_count": 8,
   "metadata": {},
   "outputs": [],
   "source": [
    "X = MinMaxScaler().fit_transform(df[features])"
   ]
  },
  {
   "cell_type": "code",
   "execution_count": 9,
   "metadata": {},
   "outputs": [],
   "source": [
    "km = KMeans(init='k-means++', n_clusters=2, random_state=20).fit(X)"
   ]
  },
  {
   "cell_type": "code",
   "execution_count": 10,
   "metadata": {},
   "outputs": [
    {
     "data": {
      "text/plain": [
       "array([0, 1, 1, 1, 0, 0, 0, 0, 0, 0, 1, 0, 0, 0, 1, 0, 0, 1, 1, 0, 1, 1,\n",
       "       1, 0, 0, 1, 1, 0, 1, 0, 0, 1, 1, 1, 1, 1, 1, 0, 1, 1, 1, 1, 1, 1,\n",
       "       0, 1, 1, 0, 0, 0, 0, 0, 0, 0, 1, 1, 0, 1, 0, 1, 1, 0, 0, 0, 0, 1,\n",
       "       1, 0, 1, 0, 0, 0])"
      ]
     },
     "execution_count": 10,
     "metadata": {},
     "output_type": "execute_result"
    }
   ],
   "source": [
    "km.labels_"
   ]
  },
  {
   "cell_type": "code",
   "execution_count": 11,
   "metadata": {},
   "outputs": [],
   "source": [
    "df['labels']= km.labels_"
   ]
  },
  {
   "cell_type": "code",
   "execution_count": 12,
   "metadata": {},
   "outputs": [
    {
     "data": {
      "image/png": "[encoded data removed]",
      "text/plain": [
       "<Figure size 720x576 with 1 Axes>"
      ]
     },
     "metadata": {
      "needs_background": "light"
     },
     "output_type": "display_data"
    }
   ],
   "source": [
    "fig = plt.figure(figsize=(10,8))\n",
    "ax = fig.add_subplot(111,projection='3d')\n",
    "\n",
    "x = df['energy']\n",
    "y = df['danceability']\n",
    "z = df['loudness']\n",
    "cmhot = cmhot = plt.get_cmap('bwr')\n",
    "\n",
    "ax.scatter(x,y,z,c=df['labels'],s=40,cmap=cmhot)\n",
    "ax.set_xlabel('Energy',fontsize=12)\n",
    "ax.set_ylabel('Danceability',fontsize=12)\n",
    "ax.set_zlabel('Loudness',fontsize=12)\n",
    "ax.set_title(\"3D Scatter Plot of Songs Clustered\")\n",
    "plt.show()"
   ]
  },
  {
   "cell_type": "code",
   "execution_count": 13,
   "metadata": {},
   "outputs": [
    {
     "data": {
      "text/html": [
       "<div>\n",
       "<style scoped>\n",
       "    .dataframe tbody tr th:only-of-type {\n",
       "        vertical-align: middle;\n",
       "    }\n",
       "\n",
       "    .dataframe tbody tr th {\n",
       "        vertical-align: top;\n",
       "    }\n",
       "\n",
       "    .dataframe thead th {\n",
       "        text-align: right;\n",
       "    }\n",
       "</style>\n",
       "<table border=\"1\" class=\"dataframe\">\n",
       "  <thead>\n",
       "    <tr style=\"text-align: right;\">\n",
       "      <th></th>\n",
       "      <th>energy</th>\n",
       "      <th>danceability</th>\n",
       "      <th>loudness</th>\n",
       "      <th>instrumentalness</th>\n",
       "      <th>popularity</th>\n",
       "    </tr>\n",
       "    <tr>\n",
       "      <th>labels</th>\n",
       "      <th></th>\n",
       "      <th></th>\n",
       "      <th></th>\n",
       "      <th></th>\n",
       "      <th></th>\n",
       "    </tr>\n",
       "  </thead>\n",
       "  <tbody>\n",
       "    <tr>\n",
       "      <th>0</th>\n",
       "      <td>0.51073</td>\n",
       "      <td>0.545919</td>\n",
       "      <td>-10.012054</td>\n",
       "      <td>0.025374</td>\n",
       "      <td>45.162162</td>\n",
       "    </tr>\n",
       "    <tr>\n",
       "      <th>1</th>\n",
       "      <td>0.74740</td>\n",
       "      <td>0.494657</td>\n",
       "      <td>-6.504029</td>\n",
       "      <td>0.062359</td>\n",
       "      <td>50.000000</td>\n",
       "    </tr>\n",
       "  </tbody>\n",
       "</table>\n",
       "</div>"
      ],
      "text/plain": [
       "         energy  danceability   loudness  instrumentalness  popularity\n",
       "labels                                                                \n",
       "0       0.51073      0.545919 -10.012054          0.025374   45.162162\n",
       "1       0.74740      0.494657  -6.504029          0.062359   50.000000"
      ]
     },
     "execution_count": 13,
     "metadata": {},
     "output_type": "execute_result"
    }
   ],
   "source": [
    "df.groupby(['labels']).mean()"
   ]
  },
  {
   "cell_type": "code",
   "execution_count": 14,
   "metadata": {},
   "outputs": [],
   "source": [
    "highEnergy_cluster = df[df['labels']==0]\n",
    "lowEnergy_cluster = df[df['labels']==1]\n",
    "\n",
    "highEnergy_cluster.to_csv('highEnergyClusterTyler.csv', index=False)\n",
    "lowEnergy_cluster.to_csv('lowEnergyClusterTyler.csv', index=False)"
   ]
  },
  {
   "cell_type": "code",
   "execution_count": null,
   "metadata": {},
   "outputs": [],
   "source": []
  },
  {
   "cell_type": "code",
   "execution_count": null,
   "metadata": {},
   "outputs": [],
   "source": []
  },
  {
   "cell_type": "code",
   "execution_count": 15,
   "metadata": {},
   "outputs": [],
   "source": [
    "import spotipy\n",
    "from spotipy import SpotifyClientCredentials, util\n",
    "import pandas as pd"
   ]
  },
  {
   "cell_type": "code",
   "execution_count": 16,
   "metadata": {},
   "outputs": [
    {
     "name": "stderr",
     "output_type": "stream",
     "text": [
      "Using `localhost` as redirect URI without a port. Specify a port (e.g. `localhost:8080`) to allow automatic retrieval of authentication code instead of having to copy and paste the URL your browser is redirected to.\n"
     ]
    },
    {
     "name": "stdout",
     "output_type": "stream",
     "text": [
      "Enter the URL you were redirected to: http://localhost/callback?code=AQAbLTU5JHeothb9AAegffpGnUhOTMIh7eXeAp4Q4k4YgIhEf4gdNr-ugN93Nil7XEe0zPGSXqV6l3Gi5ScDy7izu8zd9oDw4AH9XL3cGXZuq2QKuYHTsGPc6Uvy3BzKrsatj0zvzfpjprQ9R9HI_4O7IG_Po0cPYTDyv7y6K21tQ8UxkodJWW6Y9X9MOdOvquaDt3DgoY3Mdw\n"
     ]
    },
    {
     "name": "stderr",
     "output_type": "stream",
     "text": [
      "Using `localhost` as redirect URI without a port. Specify a port (e.g. `localhost:8080`) to allow automatic retrieval of authentication code instead of having to copy and paste the URL your browser is redirected to.\n"
     ]
    },
    {
     "name": "stdout",
     "output_type": "stream",
     "text": [
      "Enter the URL you were redirected to: http://localhost/callback?code=AQDC-6BZHbCdKtTlEPcIXrKMTkWZp5hAtlrnkXo0xtRrRI5JYDJ5Gpy076PBaoSpZVyUq1mwU94Gt_1tUUr_G2mWYAk1Y0zgqT31w1eF10OJXhowXWHx-205Nvh-aVtBPgpEm0RONCZIH9tpMQ10SPjhqiNmgptyz0yU1YodgxM9q9zlVdjblGBSAxCfdM9Qtl0\n"
     ]
    },
    {
     "name": "stderr",
     "output_type": "stream",
     "text": [
      "Using `localhost` as redirect URI without a port. Specify a port (e.g. `localhost:8080`) to allow automatic retrieval of authentication code instead of having to copy and paste the URL your browser is redirected to.\n"
     ]
    },
    {
     "name": "stdout",
     "output_type": "stream",
     "text": [
      "Enter the URL you were redirected to: http://localhost/callback?code=AQCkmBpaHP6IjUNaZ7djQ-uJqIaWWLiIR9BfJsJzf3b5SfHUaZxBBw_NiyWDHH6hR87E5VvIDJn0s5-YG9w3mAVOIdZhNBRwWdAWjgxUK6zZ7O68ooefZ2cOU_S6eHSW4HXKtQQCrq9ZGE2tBGISvccEqfOIiyiTe78Iq6-_d1M35gkSJJNJGIhvHuHZkrShDlu8Sk0\n"
     ]
    }
   ],
   "source": [
    "client_id='<secret>'\n",
    "client_secret='<secret>'\n",
    "redirect_uri='http://localhost/callback'\n",
    "\n",
    "username = '<secret>'\n",
    "scope_playlist = 'playlist-modify-public'\n",
    "scope_user = 'user-library-modify'\n",
    "scope_playing = 'user-read-currently-playing'\n",
    "\n",
    "#Credentials to access the Spotify Music Data\n",
    "manager = SpotifyClientCredentials(client_id,client_secret)\n",
    "sp = spotipy.Spotify(client_credentials_manager=manager)\n",
    "\n",
    "#Credentials to access the actual song played\n",
    "token_actual = util.prompt_for_user_token(username,scope_playing,client_id,client_secret,redirect_uri) \n",
    "sp_actual = spotipy.Spotify(auth=token_actual)\n",
    "\n",
    "#Credentiasl to acces the library music \n",
    "token_user= util.prompt_for_user_token(username,scope_user,client_id,client_secret,redirect_uri) \n",
    "sp_user = spotipy.Spotify(auth=token_user)\n",
    "\n",
    "#Credentiasl to acces the Playlists Music\n",
    "token_playlist= util.prompt_for_user_token(username,scope_playlist,client_id,client_secret,redirect_uri) \n",
    "sp_playlist = spotipy.Spotify(auth=token_playlist)"
   ]
  },
  {
   "cell_type": "code",
   "execution_count": 17,
   "metadata": {},
   "outputs": [],
   "source": [
    "high = pd.read_csv(\"highEnergyClusterTyler.csv\")\n",
    "low = pd.read_csv(\"lowEnergyClusterTyler.csv\")\n",
    "ids1 = high['id'].tolist()\n",
    "ids2 = low['id'].tolist()"
   ]
  },
  {
   "cell_type": "code",
   "execution_count": 18,
   "metadata": {},
   "outputs": [
    {
     "data": {
      "text/plain": [
       "37"
      ]
     },
     "execution_count": 18,
     "metadata": {},
     "output_type": "execute_result"
    }
   ],
   "source": [
    "len(high)"
   ]
  },
  {
   "cell_type": "code",
   "execution_count": 19,
   "metadata": {},
   "outputs": [
    {
     "data": {
      "text/plain": [
       "35"
      ]
     },
     "execution_count": 19,
     "metadata": {},
     "output_type": "execute_result"
    }
   ],
   "source": [
    "len(low)"
   ]
  },
  {
   "cell_type": "code",
   "execution_count": 20,
   "metadata": {},
   "outputs": [],
   "source": [
    "Tyler_HighEnergy = sp_playlist.user_playlist_create(username,\"Tyler Energetic\")\n",
    "Tyler_LoeEnergy = sp_playlist.user_playlist_create(username,\"Tyler Relaxing\")"
   ]
  },
  {
   "cell_type": "code",
   "execution_count": 21,
   "metadata": {},
   "outputs": [
    {
     "data": {
      "text/plain": [
       "{'snapshot_id': 'MiwxMjBhYWVkOGJkNGMyOTIwYzI1YWQ2MDg5ZWZlZmIwYzBkZTkyODM3'}"
      ]
     },
     "execution_count": 21,
     "metadata": {},
     "output_type": "execute_result"
    }
   ],
   "source": [
    "sp_playlist.user_playlist_add_tracks(username,'5YlCHh1aXlYSqG0yApGLH7',ids1)"
   ]
  },
  {
   "cell_type": "code",
   "execution_count": 22,
   "metadata": {},
   "outputs": [
    {
     "data": {
      "text/plain": [
       "{'snapshot_id': 'MiwyYWFmYmI5ODIxZTIxZmE2MjRkN2Q0MmVkNzlkODNkZWI2YzIzMmQ0'}"
      ]
     },
     "execution_count": 22,
     "metadata": {},
     "output_type": "execute_result"
    }
   ],
   "source": [
    "sp_playlist.user_playlist_add_tracks(username,'0h0drDaNNApUxP1PUFIdqC',ids2)"
   ]
  },
  {
   "cell_type": "code",
   "execution_count": null,
   "metadata": {},
   "outputs": [],
   "source": []
  }
 ],
 "metadata": {
  "kernelspec": {
   "display_name": "Python 3",
   "language": "python",
   "name": "python3"
  },
  "language_info": {
   "codemirror_mode": {
    "name": "ipython",
    "version": 3
   },
   "file_extension": ".py",
   "mimetype": "text/x-python",
   "name": "python",
   "nbconvert_exporter": "python",
   "pygments_lexer": "ipython3",
   "version": "3.8.5"
  }
 },
 "nbformat": 4,
 "nbformat_minor": 4
}

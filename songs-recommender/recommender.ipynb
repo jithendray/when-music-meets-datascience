{
 "cells": [
  {
   "cell_type": "markdown",
   "metadata": {},
   "source": [
    "### Content-Based Song Recommender"
   ]
  },
  {
   "cell_type": "code",
   "execution_count": 1,
   "metadata": {},
   "outputs": [],
   "source": [
    "# importing few libraries\n",
    "import numpy as np\n",
    "import pandas as pd\n",
    "from typing import Dict, List\n",
    "\n",
    "from sklearn.feature_extraction.text import TfidfVectorizer\n",
    "from sklearn.metrics.pairwise import cosine_similarity"
   ]
  },
  {
   "cell_type": "code",
   "execution_count": 2,
   "metadata": {},
   "outputs": [
    {
     "data": {
      "text/html": [
       "<div>\n",
       "<style scoped>\n",
       "    .dataframe tbody tr th:only-of-type {\n",
       "        vertical-align: middle;\n",
       "    }\n",
       "\n",
       "    .dataframe tbody tr th {\n",
       "        vertical-align: top;\n",
       "    }\n",
       "\n",
       "    .dataframe thead th {\n",
       "        text-align: right;\n",
       "    }\n",
       "</style>\n",
       "<table border=\"1\" class=\"dataframe\">\n",
       "  <thead>\n",
       "    <tr style=\"text-align: right;\">\n",
       "      <th></th>\n",
       "      <th>artist</th>\n",
       "      <th>song</th>\n",
       "      <th>link</th>\n",
       "      <th>lyrics</th>\n",
       "    </tr>\n",
       "  </thead>\n",
       "  <tbody>\n",
       "    <tr>\n",
       "      <th>0</th>\n",
       "      <td>ABBA</td>\n",
       "      <td>Ahe's My Kind Of Girl</td>\n",
       "      <td>/a/abba/ahes+my+kind+of+girl_20598417.html</td>\n",
       "      <td>Look at her face, it's a wonderful face  \\nAnd...</td>\n",
       "    </tr>\n",
       "    <tr>\n",
       "      <th>1</th>\n",
       "      <td>ABBA</td>\n",
       "      <td>Andante, Andante</td>\n",
       "      <td>/a/abba/andante+andante_20002708.html</td>\n",
       "      <td>Take it easy with me, please  \\nTouch me gentl...</td>\n",
       "    </tr>\n",
       "    <tr>\n",
       "      <th>2</th>\n",
       "      <td>ABBA</td>\n",
       "      <td>As Good As New</td>\n",
       "      <td>/a/abba/as+good+as+new_20003033.html</td>\n",
       "      <td>I'll never know why I had to go  \\nWhy I had t...</td>\n",
       "    </tr>\n",
       "    <tr>\n",
       "      <th>3</th>\n",
       "      <td>ABBA</td>\n",
       "      <td>Bang</td>\n",
       "      <td>/a/abba/bang_20598415.html</td>\n",
       "      <td>Making somebody happy is a question of give an...</td>\n",
       "    </tr>\n",
       "    <tr>\n",
       "      <th>4</th>\n",
       "      <td>ABBA</td>\n",
       "      <td>Bang-A-Boomerang</td>\n",
       "      <td>/a/abba/bang+a+boomerang_20002668.html</td>\n",
       "      <td>Making somebody happy is a question of give an...</td>\n",
       "    </tr>\n",
       "  </tbody>\n",
       "</table>\n",
       "</div>"
      ],
      "text/plain": [
       "  artist                   song                                        link  \\\n",
       "0   ABBA  Ahe's My Kind Of Girl  /a/abba/ahes+my+kind+of+girl_20598417.html   \n",
       "1   ABBA       Andante, Andante       /a/abba/andante+andante_20002708.html   \n",
       "2   ABBA         As Good As New        /a/abba/as+good+as+new_20003033.html   \n",
       "3   ABBA                   Bang                  /a/abba/bang_20598415.html   \n",
       "4   ABBA       Bang-A-Boomerang      /a/abba/bang+a+boomerang_20002668.html   \n",
       "\n",
       "                                              lyrics  \n",
       "0  Look at her face, it's a wonderful face  \\nAnd...  \n",
       "1  Take it easy with me, please  \\nTouch me gentl...  \n",
       "2  I'll never know why I had to go  \\nWhy I had t...  \n",
       "3  Making somebody happy is a question of give an...  \n",
       "4  Making somebody happy is a question of give an...  "
      ]
     },
     "execution_count": 2,
     "metadata": {},
     "output_type": "execute_result"
    }
   ],
   "source": [
    "# load the songs data\n",
    "df = pd.read_csv('songLyrics.csv')\n",
    "df.head(5)"
   ]
  },
  {
   "cell_type": "code",
   "execution_count": 3,
   "metadata": {},
   "outputs": [
    {
     "name": "stdout",
     "output_type": "stream",
     "text": [
      "The shape of the dataset used: 57650\n"
     ]
    }
   ],
   "source": [
    "print('The shape of the dataset used: {}'.format(len(df)))"
   ]
  },
  {
   "cell_type": "markdown",
   "metadata": {},
   "source": [
    "Since there are many songs in the dataset, my system is not being able to calculate the cosine matrix. It is giving some 'too large nnz result error'. So I am considering a random sample of 15,000 songs.\n",
    "\n",
    "\n",
    "Note: There are probably ways to calculate cosine similarities for large sparse matrices, but i'm yet to explore this. So, for the sake of getting immediate good results - I'm only considering a sample!"
   ]
  },
  {
   "cell_type": "code",
   "execution_count": 4,
   "metadata": {},
   "outputs": [
    {
     "name": "stdout",
     "output_type": "stream",
     "text": [
      "The shape of the dataset used: 15000\n"
     ]
    }
   ],
   "source": [
    "df = df.sample(n=15000).drop('link', axis=1).reset_index(drop=True)\n",
    "print('The shape of the dataset used: {}'.format(len(df)))"
   ]
  },
  {
   "cell_type": "code",
   "execution_count": 5,
   "metadata": {},
   "outputs": [
    {
     "data": {
      "text/plain": [
       "\"Coke machines on the ho chi minh trail  \\nRussian spies shopping at bloomingdales  \\nKiller bees swarming up the rio grande  \\nHey baby where'd you get that tan  \\nRome burns as we dance cheek to cheek  \\nTitanic's sinking but oooh do we look chic  \\nNew york city's got the hong kong flu  \\nAnd I can't take my eyes off you  \\nMx gi joe  \\nRsvp ufo  \\nAbcia  \\nI still want to know who shot jfk  \\nLet's dance  \\nTo the rhythm of romance  \\nLet's swing  \\n'neath the stars above  \\nC'mon let's dance  \\nTo the rhythm of romance  \\nLet's kiss  \\nLet's fall in love  \\nJohnny woke up from his american dream  \\nRich man poor man and a desert in between  \\nCrystal chandeliers hangin' by a thread  \\nWe're in the pink baby just two trillon in the red  \\nAnd I hear gabriel blowing his saxophone  \\nThrough a great big hole in the ozone  \\nWho cares it the sun don't rise  \\nWhen I look in to your ultraviolet eyes  \\nThat's life, this is war  \\nI took it on faith, can't take it anymore  \\nOld, young, yin and yang  \\nWe'll all go together in the next big bang  \\nBoom shug a lug a lug a boom  \\nLet's dance  \\nTo the rhythm of romance  \\nLet's swing  \\n'neath the stars above  \\nC'mon let's dance  \\nTo the rhythm of romance  \\nLet's kiss  \\nLet's fall in love  \\n\\n\""
      ]
     },
     "execution_count": 5,
     "metadata": {},
     "output_type": "execute_result"
    }
   ],
   "source": [
    "df['lyrics'][0]"
   ]
  },
  {
   "cell_type": "markdown",
   "metadata": {},
   "source": [
    "**Replacing \"\\n's\" and extra spaces to convert to into plain looking lyrical text:**"
   ]
  },
  {
   "cell_type": "code",
   "execution_count": 6,
   "metadata": {},
   "outputs": [],
   "source": [
    "df['lyrics'] = df['lyrics'].str.replace(r'\\n', '')"
   ]
  },
  {
   "cell_type": "code",
   "execution_count": 7,
   "metadata": {},
   "outputs": [
    {
     "data": {
      "text/plain": [
       "\"Coke machines on the ho chi minh trail  Russian spies shopping at bloomingdales  Killer bees swarming up the rio grande  Hey baby where'd you get that tan  Rome burns as we dance cheek to cheek  Titanic's sinking but oooh do we look chic  New york city's got the hong kong flu  And I can't take my eyes off you  Mx gi joe  Rsvp ufo  Abcia  I still want to know who shot jfk  Let's dance  To the rhythm of romance  Let's swing  'neath the stars above  C'mon let's dance  To the rhythm of romance  Let's kiss  Let's fall in love  Johnny woke up from his american dream  Rich man poor man and a desert in between  Crystal chandeliers hangin' by a thread  We're in the pink baby just two trillon in the red  And I hear gabriel blowing his saxophone  Through a great big hole in the ozone  Who cares it the sun don't rise  When I look in to your ultraviolet eyes  That's life, this is war  I took it on faith, can't take it anymore  Old, young, yin and yang  We'll all go together in the next big bang  Boom shug a lug a lug a boom  Let's dance  To the rhythm of romance  Let's swing  'neath the stars above  C'mon let's dance  To the rhythm of romance  Let's kiss  Let's fall in love  \""
      ]
     },
     "execution_count": 7,
     "metadata": {},
     "output_type": "execute_result"
    }
   ],
   "source": [
    "df['lyrics'][0]"
   ]
  },
  {
   "cell_type": "code",
   "execution_count": 8,
   "metadata": {},
   "outputs": [],
   "source": [
    "df['lyrics'] = df['lyrics'].str.replace(r'  ', ' ')\n",
    "df['lyrics'] = df['lyrics'].str.replace(r'  ', ' ')"
   ]
  },
  {
   "cell_type": "code",
   "execution_count": 9,
   "metadata": {},
   "outputs": [
    {
     "data": {
      "text/plain": [
       "\"Coke machines on the ho chi minh trail Russian spies shopping at bloomingdales Killer bees swarming up the rio grande Hey baby where'd you get that tan Rome burns as we dance cheek to cheek Titanic's sinking but oooh do we look chic New york city's got the hong kong flu And I can't take my eyes off you Mx gi joe Rsvp ufo Abcia I still want to know who shot jfk Let's dance To the rhythm of romance Let's swing 'neath the stars above C'mon let's dance To the rhythm of romance Let's kiss Let's fall in love Johnny woke up from his american dream Rich man poor man and a desert in between Crystal chandeliers hangin' by a thread We're in the pink baby just two trillon in the red And I hear gabriel blowing his saxophone Through a great big hole in the ozone Who cares it the sun don't rise When I look in to your ultraviolet eyes That's life, this is war I took it on faith, can't take it anymore Old, young, yin and yang We'll all go together in the next big bang Boom shug a lug a lug a boom Let's dance To the rhythm of romance Let's swing 'neath the stars above C'mon let's dance To the rhythm of romance Let's kiss Let's fall in love \""
      ]
     },
     "execution_count": 9,
     "metadata": {},
     "output_type": "execute_result"
    }
   ],
   "source": [
    "df['lyrics'][0]"
   ]
  },
  {
   "cell_type": "markdown",
   "metadata": {},
   "source": [
    "**Scikit-learn's TF-IDF vectorizer calculates the tfidf score --- word by word for each song**"
   ]
  },
  {
   "cell_type": "code",
   "execution_count": 10,
   "metadata": {},
   "outputs": [],
   "source": [
    "tfidf = TfidfVectorizer(analyzer='word', stop_words='english')"
   ]
  },
  {
   "cell_type": "markdown",
   "metadata": {},
   "source": [
    "**Fit the Vectorizer on the lyrics and it'll generate a matrix with all the scores stored**"
   ]
  },
  {
   "cell_type": "code",
   "execution_count": 11,
   "metadata": {},
   "outputs": [
    {
     "name": "stdout",
     "output_type": "stream",
     "text": [
      "Computing a tfidf vector matrix between lyrics ---\n",
      "1.730647325515747\n",
      "Completed!!!!\n"
     ]
    }
   ],
   "source": [
    "import time\n",
    "start = time.time()\n",
    "print('Computing a tfidf vector matrix between lyrics ---')\n",
    "lyric_matrix = tfidf.fit_transform(df['lyrics'])\n",
    "end = time.time()\n",
    "print(end - start)\n",
    "print('Completed!!!!')"
   ]
  },
  {
   "cell_type": "code",
   "execution_count": 12,
   "metadata": {},
   "outputs": [
    {
     "data": {
      "text/plain": [
       "(15000, 43323)"
      ]
     },
     "execution_count": 12,
     "metadata": {},
     "output_type": "execute_result"
    }
   ],
   "source": [
    "lyric_matrix.shape"
   ]
  },
  {
   "cell_type": "markdown",
   "metadata": {},
   "source": [
    "To calculate the similarity between lyrics - I am using a similarity measure called __Cosine Similarity__. \n",
    "\n",
    "The argument for calculating cosine similarity is just the tfidf matrix calculated by the vectorizer. This calculates the similarity of each word with every other word in the matrix."
   ]
  },
  {
   "cell_type": "code",
   "execution_count": 13,
   "metadata": {},
   "outputs": [
    {
     "name": "stdout",
     "output_type": "stream",
     "text": [
      "Computing Cosine similarities for the lyric_matrix ---\n",
      "6.581965923309326\n",
      "Completed!!!!\n"
     ]
    }
   ],
   "source": [
    "import time\n",
    "start = time.time()\n",
    "print('Computing Cosine similarities for the lyric_matrix ---')\n",
    "cosine_similarities = cosine_similarity(lyric_matrix)\n",
    "end = time.time()\n",
    "print(end - start)\n",
    "print('Completed!!!!')"
   ]
  },
  {
   "cell_type": "markdown",
   "metadata": {},
   "source": [
    "**I used the computed similarities to build a Recommender!**"
   ]
  },
  {
   "cell_type": "code",
   "execution_count": 14,
   "metadata": {},
   "outputs": [],
   "source": [
    "similar_songs = {}\n",
    "\n",
    "for i in range(len(cosine_similarities)):\n",
    "    indices_similar = cosine_similarities[i].argsort()[:-50:-1]\n",
    "    similar_songs[df['song'].iloc[i]] = [(cosine_similarities[i][x], df['song'][x], df['artist'][x]) for x in indices_similar][1:]"
   ]
  },
  {
   "cell_type": "code",
   "execution_count": 15,
   "metadata": {},
   "outputs": [],
   "source": [
    "class Recommender:\n",
    "    def __init__(self, matrix):\n",
    "        self.similar_matrix = matrix\n",
    "    \n",
    "    def _print(self, song, recommended):\n",
    "        recommended_length = len(recommended)\n",
    "        print(f'The {recommended_length} recommended songs for {song} are: ')\n",
    "        for i in range(recommended_length):\n",
    "            print(f'{i+1}: ')\n",
    "            print(f'{recommended[i][1]} by {recommended[i][2]} with similarity score of {round(recommended[i][0], 3)}')\n",
    "            print('***********************************************')\n",
    "    \n",
    "    def recommend(self, recommendation):\n",
    "        song = recommendation['song']\n",
    "        number = recommendation['number']\n",
    "        recommended = self.similar_matrix[song][:number]\n",
    "        self._print(song=song, recommended=recommended)"
   ]
  },
  {
   "cell_type": "code",
   "execution_count": 16,
   "metadata": {},
   "outputs": [],
   "source": [
    "# instantiate the class\n",
    "recommendations = Recommender(similar_songs)"
   ]
  },
  {
   "cell_type": "markdown",
   "metadata": {},
   "source": [
    "Finally, Get recommendations:"
   ]
  },
  {
   "cell_type": "code",
   "execution_count": 18,
   "metadata": {},
   "outputs": [
    {
     "name": "stdout",
     "output_type": "stream",
     "text": [
      "The 5 recommended songs for I Like Death are: \n",
      "1: \n",
      "Cheese Cake by Aerosmith with similarity score of 0.581\n",
      "***********************************************\n",
      "2: \n",
      "The Corner Grocery Store by Raffi with similarity score of 0.205\n",
      "***********************************************\n",
      "3: \n",
      "Duke Of Prunes by Frank Zappa with similarity score of 0.168\n",
      "***********************************************\n",
      "4: \n",
      "I'm Your Daddy by Weezer with similarity score of 0.166\n",
      "***********************************************\n",
      "5: \n",
      "I Guess I Like It Like That by Kylie Minogue with similarity score of 0.147\n",
      "***********************************************\n"
     ]
    }
   ],
   "source": [
    "song1 = {\n",
    "    \"song\": df['song'].iloc[1977],\n",
    "    \"number\": 5\n",
    "}\n",
    "\n",
    "recommendations.recommend(song1)"
   ]
  },
  {
   "cell_type": "code",
   "execution_count": 20,
   "metadata": {},
   "outputs": [
    {
     "name": "stdout",
     "output_type": "stream",
     "text": [
      "The 5 recommended songs for Love The Way You Lie are: \n",
      "1: \n",
      "Love The Way You Lie by Eminem with similarity score of 0.632\n",
      "***********************************************\n",
      "2: \n",
      "Would I Lie To You by Whitesnake with similarity score of 0.442\n",
      "***********************************************\n",
      "3: \n",
      "Love Don't Lie by Def Leppard with similarity score of 0.382\n",
      "***********************************************\n",
      "4: \n",
      "Lie Down by Whitesnake with similarity score of 0.37\n",
      "***********************************************\n",
      "5: \n",
      "Any Way You Want It by Kiss with similarity score of 0.362\n",
      "***********************************************\n"
     ]
    }
   ],
   "source": [
    "song2 = {\n",
    "    \"song\": df['song'].iloc[4415],\n",
    "    \"number\": 5\n",
    "}\n",
    "\n",
    "recommendations.recommend(song2)"
   ]
  },
  {
   "cell_type": "code",
   "execution_count": null,
   "metadata": {},
   "outputs": [],
   "source": []
  }
 ],
 "metadata": {
  "kernelspec": {
   "display_name": "Python 3",
   "language": "python",
   "name": "python3"
  },
  "language_info": {
   "codemirror_mode": {
    "name": "ipython",
    "version": 3
   },
   "file_extension": ".py",
   "mimetype": "text/x-python",
   "name": "python",
   "nbconvert_exporter": "python",
   "pygments_lexer": "ipython3",
   "version": "3.8.5"
  }
 },
 "nbformat": 4,
 "nbformat_minor": 4
}
